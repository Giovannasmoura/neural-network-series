{
  "nbformat": 4,
  "nbformat_minor": 0,
  "metadata": {
    "colab": {
      "name": "1º Teste com Perceptron Multicamadas - DEU CERTO ",
      "provenance": [],
      "mount_file_id": "17YFhd4_2ljlQWHdF11Ni71pxe1LIUVxy",
      "authorship_tag": "ABX9TyP+KOQIOuqVcbYEd9oSV9hm",
      "include_colab_link": true
    },
    "kernelspec": {
      "name": "python3",
      "display_name": "Python 3"
    },
    "language_info": {
      "name": "python"
    }
  },
  "cells": [
    {
      "cell_type": "markdown",
      "metadata": {
        "id": "view-in-github",
        "colab_type": "text"
      },
      "source": [
        "<a href=\"https://colab.research.google.com/github/Giovannasmoura/neural-network-series/blob/main/1%C2%BA_Teste_com_Perceptron_Multicamadas_DEU_CERTO.ipynb\" target=\"_parent\"><img src=\"https://colab.research.google.com/assets/colab-badge.svg\" alt=\"Open In Colab\"/></a>"
      ]
    },
    {
      "cell_type": "code",
      "source": [
        "# Importanto pacotes para trabalhar com Perceptron \n",
        "from sklearn import datasets\n",
        "from sklearn.preprocessing import StandardScaler\n",
        "from sklearn.linear_model import Perceptron\n",
        "# Separação dos dados de teste e treino\n",
        "from sklearn.model_selection import train_test_split\n",
        "# Pacotes para averiguar a acuracia do treinamento\n",
        "from sklearn.metrics import accuracy_score\n",
        "from sklearn.metrics import confusion_matrix\n",
        "from sklearn.metrics import plot_confusion_matrix\n",
        "# Manipulação dos dados\n",
        "import numpy as np\n",
        "import pandas as pd\n",
        "import matplotlib.pyplot as plt"
      ],
      "metadata": {
        "id": "BzMbuYxwhdnE"
      },
      "execution_count": 22,
      "outputs": []
    },
    {
      "cell_type": "markdown",
      "source": [
        "# Tratamento de Base de Dados\n"
      ],
      "metadata": {
        "id": "W9u9xMplh2Sd"
      }
    },
    {
      "cell_type": "code",
      "source": [
        "from google.colab import files\n",
        "uploaded=files.upload()\n",
        "import io"
      ],
      "metadata": {
        "colab": {
          "resources": {
            "http://localhost:8080/nbextensions/google.colab/files.js": {
              "data": "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",
              "ok": true,
              "headers": [
                [
                  "content-type",
                  "application/javascript"
                ]
              ],
              "status": 200,
              "status_text": ""
            }
          },
          "base_uri": "https://localhost:8080/",
          "height": 74
        },
        "id": "U_AqQSroirZE",
        "outputId": "efc60f44-9abf-48a0-949d-381721766550"
      },
      "execution_count": 24,
      "outputs": [
        {
          "output_type": "display_data",
          "data": {
            "text/plain": [
              "<IPython.core.display.HTML object>"
            ],
            "text/html": [
              "\n",
              "     <input type=\"file\" id=\"files-1d606ed7-9645-4102-b665-80a400983fe5\" name=\"files[]\" multiple disabled\n",
              "        style=\"border:none\" />\n",
              "     <output id=\"result-1d606ed7-9645-4102-b665-80a400983fe5\">\n",
              "      Upload widget is only available when the cell has been executed in the\n",
              "      current browser session. Please rerun this cell to enable.\n",
              "      </output>\n",
              "      <script src=\"/nbextensions/google.colab/files.js\"></script> "
            ]
          },
          "metadata": {}
        },
        {
          "output_type": "stream",
          "name": "stdout",
          "text": [
            "Saving cardio.csv to cardio.csv\n"
          ]
        }
      ]
    },
    {
      "cell_type": "code",
      "source": [
        "original_data = pd.read_csv(\"cardio.csv\", sep=';')\n",
        "data = original_data.iloc[:, 1:]\n",
        "\n",
        "X = data.iloc[:, :-1]\n",
        "y = data.iloc[:, -1:]\n",
        "\n",
        "# O \"iloc\" acessa cada posição da tabela, os \":\" significa acessar todas as linha e \"1:\" remove a 1º coluna.\n",
        "\n",
        "print(len(X))"
      ],
      "metadata": {
        "colab": {
          "base_uri": "https://localhost:8080/"
        },
        "id": "aG3xKrkohdsP",
        "outputId": "699a3758-fbd9-4ae5-a281-87d27300491e"
      },
      "execution_count": 25,
      "outputs": [
        {
          "output_type": "stream",
          "name": "stdout",
          "text": [
            "70000\n"
          ]
        }
      ]
    },
    {
      "cell_type": "code",
      "source": [
        "#Quando temos uma única tabela, temos que selecionar dentro dela os dados de treino e teste. Abaixo selecionamos \"0.15\", ou seja, 15% para dado de teste e o reste vai ser usado como dados de treino.\n",
        "X_train, X_test, y_train, y_test = train_test_split(X, y, test_size=0.15)"
      ],
      "metadata": {
        "id": "uA_mnDsdhdwK"
      },
      "execution_count": 26,
      "outputs": []
    },
    {
      "cell_type": "code",
      "source": [
        "sc = StandardScaler()\n",
        "sc.fit(X_train)\n",
        "\n",
        "X_train_scaled = sc.transform(X_train.values)\n",
        "X_test_scaled = sc.transform(X_test.values)"
      ],
      "metadata": {
        "colab": {
          "base_uri": "https://localhost:8080/"
        },
        "id": "8rZO3zDLhd0E",
        "outputId": "fda663c8-8a8a-415a-b4cf-f6448c53f360"
      },
      "execution_count": 28,
      "outputs": [
        {
          "output_type": "stream",
          "name": "stderr",
          "text": [
            "/usr/local/lib/python3.7/dist-packages/sklearn/base.py:451: UserWarning: X does not have valid feature names, but StandardScaler was fitted with feature names\n",
            "  \"X does not have valid feature names, but\"\n",
            "/usr/local/lib/python3.7/dist-packages/sklearn/base.py:451: UserWarning: X does not have valid feature names, but StandardScaler was fitted with feature names\n",
            "  \"X does not have valid feature names, but\"\n"
          ]
        }
      ]
    },
    {
      "cell_type": "markdown",
      "source": [
        "#Perceptron"
      ],
      "metadata": {
        "id": "NM-NWlYXiAE_"
      }
    },
    {
      "cell_type": "code",
      "source": [
        "ppn = Perceptron(max_iter=1000, eta0=0.1, random_state=0)\n",
        "ppn.fit(X_train, y_train.values.ravel())"
      ],
      "metadata": {
        "colab": {
          "base_uri": "https://localhost:8080/"
        },
        "id": "ddVi1Gj_hd4P",
        "outputId": "a646c284-55b7-42b1-fb67-0d2cc8769f3a"
      },
      "execution_count": 29,
      "outputs": [
        {
          "output_type": "execute_result",
          "data": {
            "text/plain": [
              "Perceptron(eta0=0.1)"
            ]
          },
          "metadata": {},
          "execution_count": 29
        }
      ]
    },
    {
      "cell_type": "code",
      "source": [
        "y_pred = ppn.predict(X_test)"
      ],
      "metadata": {
        "id": "mXaCvLDEhd8K"
      },
      "execution_count": 30,
      "outputs": []
    },
    {
      "cell_type": "code",
      "source": [
        "confusion_matrix(y_test, y_pred)"
      ],
      "metadata": {
        "colab": {
          "base_uri": "https://localhost:8080/"
        },
        "id": "9fGYZ6yjheAU",
        "outputId": "b3c2d32f-8602-4599-b483-c4626141c216"
      },
      "execution_count": 31,
      "outputs": [
        {
          "output_type": "execute_result",
          "data": {
            "text/plain": [
              "array([[2789, 2497],\n",
              "       [1001, 4213]])"
            ]
          },
          "metadata": {},
          "execution_count": 31
        }
      ]
    },
    {
      "cell_type": "code",
      "source": [
        "plot_confusion_matrix(ppn, X_test, y_test) "
      ],
      "metadata": {
        "colab": {
          "base_uri": "https://localhost:8080/",
          "height": 351
        },
        "id": "Pf3oDFIZheEw",
        "outputId": "945695c6-bc5f-4fac-8e0d-4ac5467c058f"
      },
      "execution_count": 32,
      "outputs": [
        {
          "output_type": "stream",
          "name": "stderr",
          "text": [
            "/usr/local/lib/python3.7/dist-packages/sklearn/utils/deprecation.py:87: FutureWarning: Function plot_confusion_matrix is deprecated; Function `plot_confusion_matrix` is deprecated in 1.0 and will be removed in 1.2. Use one of the class methods: ConfusionMatrixDisplay.from_predictions or ConfusionMatrixDisplay.from_estimator.\n",
            "  warnings.warn(msg, category=FutureWarning)\n"
          ]
        },
        {
          "output_type": "execute_result",
          "data": {
            "text/plain": [
              "<sklearn.metrics._plot.confusion_matrix.ConfusionMatrixDisplay at 0x7ff290788c10>"
            ]
          },
          "metadata": {},
          "execution_count": 32
        },
        {
          "output_type": "display_data",
          "data": {
            "text/plain": [
              "<Figure size 432x288 with 2 Axes>"
            ],
            "image/png": "[encoded data removed]"
          },
          "metadata": {
            "needs_background": "light"
          }
        }
      ]
    },
    {
      "cell_type": "code",
      "source": [
        "accuracy_score(y_test, y_pred)"
      ],
      "metadata": {
        "colab": {
          "base_uri": "https://localhost:8080/"
        },
        "id": "-FEgu-tlheIs",
        "outputId": "89e538d2-caad-4b76-8d8f-e05d60413a5c"
      },
      "execution_count": 33,
      "outputs": [
        {
          "output_type": "execute_result",
          "data": {
            "text/plain": [
              "0.6668571428571428"
            ]
          },
          "metadata": {},
          "execution_count": 33
        }
      ]
    },
    {
      "cell_type": "markdown",
      "source": [
        "# Perceptron Multicamada\n"
      ],
      "metadata": {
        "id": "gDjXuD6ZiS6a"
      }
    },
    {
      "cell_type": "code",
      "source": [
        "import tensorflow as tf\n",
        "from tensorflow import keras\n",
        "from tensorflow.keras import layers"
      ],
      "metadata": {
        "id": "h7N4Ry2FheM1"
      },
      "execution_count": 34,
      "outputs": []
    },
    {
      "cell_type": "code",
      "source": [
        "import random as python_random\n",
        "\n",
        "SEED = 0\n",
        "\n",
        "np.random.seed(SEED)\n",
        "python_random.seed(SEED)\n",
        "tf.random.set_seed(SEED)"
      ],
      "metadata": {
        "id": "ZPK-Ei_eheQy"
      },
      "execution_count": 35,
      "outputs": []
    },
    {
      "cell_type": "code",
      "source": [
        "ann = keras.Sequential()\n",
        "ann.add(layers.Dense(6, activation='relu'))\n",
        "ann.add(layers.Dense(1, activation='sigmoid'))\n",
        "\n",
        "ann.compile(optimizer='adam', loss='binary_crossentropy', metrics=['accuracy'])\n",
        "#mencionar que o adam é um stochastic gradient-based optimizer proposed by Kingma, Diederik, and Jimmy Ba"
      ],
      "metadata": {
        "id": "GzRBLS6MheVa"
      },
      "execution_count": 36,
      "outputs": []
    },
    {
      "cell_type": "code",
      "source": [
        "history = ann.fit(X_train, y_train, batch_size=128, epochs=100)\n"
      ],
      "metadata": {
        "colab": {
          "base_uri": "https://localhost:8080/"
        },
        "id": "4vvmdaVAic9g",
        "outputId": "83cfd5c0-3012-487b-852d-b1bc2a7f4cfe"
      },
      "execution_count": 37,
      "outputs": [
        {
          "output_type": "stream",
          "name": "stdout",
          "text": [
            "Epoch 1/100\n",
            "465/465 [==============================] - 2s 2ms/step - loss: 45.5871 - accuracy: 0.5012\n",
            "Epoch 2/100\n",
            "465/465 [==============================] - 1s 2ms/step - loss: 0.7419 - accuracy: 0.5069\n",
            "Epoch 3/100\n",
            "465/465 [==============================] - 1s 2ms/step - loss: 0.7590 - accuracy: 0.5061\n",
            "Epoch 4/100\n",
            "465/465 [==============================] - 1s 2ms/step - loss: 0.7550 - accuracy: 0.5063\n",
            "Epoch 5/100\n",
            "465/465 [==============================] - 1s 2ms/step - loss: 0.7477 - accuracy: 0.5072\n",
            "Epoch 6/100\n",
            "465/465 [==============================] - 1s 2ms/step - loss: 0.7445 - accuracy: 0.5063\n",
            "Epoch 7/100\n",
            "465/465 [==============================] - 1s 2ms/step - loss: 0.7479 - accuracy: 0.5064\n",
            "Epoch 8/100\n",
            "465/465 [==============================] - 1s 2ms/step - loss: 0.7359 - accuracy: 0.5137\n",
            "Epoch 9/100\n",
            "465/465 [==============================] - 1s 2ms/step - loss: 0.7417 - accuracy: 0.5151\n",
            "Epoch 10/100\n",
            "465/465 [==============================] - 1s 2ms/step - loss: 0.7325 - accuracy: 0.5070\n",
            "Epoch 11/100\n",
            "465/465 [==============================] - 1s 2ms/step - loss: 0.7137 - accuracy: 0.5175\n",
            "Epoch 12/100\n",
            "465/465 [==============================] - 1s 2ms/step - loss: 0.7140 - accuracy: 0.5203\n",
            "Epoch 13/100\n",
            "465/465 [==============================] - 1s 2ms/step - loss: 0.7096 - accuracy: 0.5234\n",
            "Epoch 14/100\n",
            "465/465 [==============================] - 1s 3ms/step - loss: 0.7055 - accuracy: 0.5250\n",
            "Epoch 15/100\n",
            "465/465 [==============================] - 1s 3ms/step - loss: 0.6960 - accuracy: 0.5277\n",
            "Epoch 16/100\n",
            "465/465 [==============================] - 1s 2ms/step - loss: 0.6936 - accuracy: 0.5362\n",
            "Epoch 17/100\n",
            "465/465 [==============================] - 1s 2ms/step - loss: 0.6873 - accuracy: 0.5448\n",
            "Epoch 18/100\n",
            "465/465 [==============================] - 1s 2ms/step - loss: 0.6834 - accuracy: 0.5573\n",
            "Epoch 19/100\n",
            "465/465 [==============================] - 1s 2ms/step - loss: 0.6783 - accuracy: 0.5860\n",
            "Epoch 20/100\n",
            "465/465 [==============================] - 1s 2ms/step - loss: 0.6734 - accuracy: 0.6046\n",
            "Epoch 21/100\n",
            "465/465 [==============================] - 1s 2ms/step - loss: 0.6687 - accuracy: 0.6148\n",
            "Epoch 22/100\n",
            "465/465 [==============================] - 1s 2ms/step - loss: 0.6611 - accuracy: 0.6438\n",
            "Epoch 23/100\n",
            "465/465 [==============================] - 1s 2ms/step - loss: 0.6479 - accuracy: 0.6672\n",
            "Epoch 24/100\n",
            "465/465 [==============================] - 1s 2ms/step - loss: 0.6327 - accuracy: 0.6765\n",
            "Epoch 25/100\n",
            "465/465 [==============================] - 1s 2ms/step - loss: 0.6172 - accuracy: 0.6890\n",
            "Epoch 26/100\n",
            "465/465 [==============================] - 1s 2ms/step - loss: 0.6091 - accuracy: 0.6942\n",
            "Epoch 27/100\n",
            "465/465 [==============================] - 1s 2ms/step - loss: 0.6076 - accuracy: 0.6949\n",
            "Epoch 28/100\n",
            "465/465 [==============================] - 1s 2ms/step - loss: 0.6066 - accuracy: 0.6973\n",
            "Epoch 29/100\n",
            "465/465 [==============================] - 1s 2ms/step - loss: 0.6015 - accuracy: 0.7055\n",
            "Epoch 30/100\n",
            "465/465 [==============================] - 1s 2ms/step - loss: 0.6027 - accuracy: 0.7021\n",
            "Epoch 31/100\n",
            "465/465 [==============================] - 1s 2ms/step - loss: 0.6034 - accuracy: 0.7007\n",
            "Epoch 32/100\n",
            "465/465 [==============================] - 1s 2ms/step - loss: 0.6005 - accuracy: 0.7057\n",
            "Epoch 33/100\n",
            "465/465 [==============================] - 1s 2ms/step - loss: 0.6012 - accuracy: 0.7051\n",
            "Epoch 34/100\n",
            "465/465 [==============================] - 1s 2ms/step - loss: 0.6050 - accuracy: 0.6983\n",
            "Epoch 35/100\n",
            "465/465 [==============================] - 1s 2ms/step - loss: 0.6020 - accuracy: 0.7035\n",
            "Epoch 36/100\n",
            "465/465 [==============================] - 1s 2ms/step - loss: 0.6030 - accuracy: 0.7032\n",
            "Epoch 37/100\n",
            "465/465 [==============================] - 1s 2ms/step - loss: 0.6014 - accuracy: 0.7048\n",
            "Epoch 38/100\n",
            "465/465 [==============================] - 1s 2ms/step - loss: 0.6027 - accuracy: 0.7042\n",
            "Epoch 39/100\n",
            "465/465 [==============================] - 1s 2ms/step - loss: 0.6006 - accuracy: 0.7067\n",
            "Epoch 40/100\n",
            "465/465 [==============================] - 1s 2ms/step - loss: 0.6017 - accuracy: 0.7035\n",
            "Epoch 41/100\n",
            "465/465 [==============================] - 1s 2ms/step - loss: 0.6033 - accuracy: 0.7026\n",
            "Epoch 42/100\n",
            "465/465 [==============================] - 1s 2ms/step - loss: 0.6020 - accuracy: 0.7044\n",
            "Epoch 43/100\n",
            "465/465 [==============================] - 1s 2ms/step - loss: 0.6006 - accuracy: 0.7064\n",
            "Epoch 44/100\n",
            "465/465 [==============================] - 1s 2ms/step - loss: 0.6015 - accuracy: 0.7056\n",
            "Epoch 45/100\n",
            "465/465 [==============================] - 1s 2ms/step - loss: 0.6020 - accuracy: 0.7053\n",
            "Epoch 46/100\n",
            "465/465 [==============================] - 1s 2ms/step - loss: 0.6009 - accuracy: 0.7045\n",
            "Epoch 47/100\n",
            "465/465 [==============================] - 1s 2ms/step - loss: 0.5997 - accuracy: 0.7074\n",
            "Epoch 48/100\n",
            "465/465 [==============================] - 1s 2ms/step - loss: 0.6045 - accuracy: 0.7014\n",
            "Epoch 49/100\n",
            "465/465 [==============================] - 1s 2ms/step - loss: 0.6019 - accuracy: 0.7050\n",
            "Epoch 50/100\n",
            "465/465 [==============================] - 1s 2ms/step - loss: 0.6003 - accuracy: 0.7086\n",
            "Epoch 51/100\n",
            "465/465 [==============================] - 1s 2ms/step - loss: 0.5998 - accuracy: 0.7074\n",
            "Epoch 52/100\n",
            "465/465 [==============================] - 1s 2ms/step - loss: 0.6005 - accuracy: 0.7064\n",
            "Epoch 53/100\n",
            "465/465 [==============================] - 1s 2ms/step - loss: 0.6058 - accuracy: 0.6999\n",
            "Epoch 54/100\n",
            "465/465 [==============================] - 1s 2ms/step - loss: 0.5992 - accuracy: 0.7072\n",
            "Epoch 55/100\n",
            "465/465 [==============================] - 1s 2ms/step - loss: 0.6013 - accuracy: 0.7046\n",
            "Epoch 56/100\n",
            "465/465 [==============================] - 1s 2ms/step - loss: 0.5997 - accuracy: 0.7066\n",
            "Epoch 57/100\n",
            "465/465 [==============================] - 1s 2ms/step - loss: 0.6002 - accuracy: 0.7050\n",
            "Epoch 58/100\n",
            "465/465 [==============================] - 1s 2ms/step - loss: 0.6002 - accuracy: 0.7071\n",
            "Epoch 59/100\n",
            "465/465 [==============================] - 1s 2ms/step - loss: 0.5992 - accuracy: 0.7084\n",
            "Epoch 60/100\n",
            "465/465 [==============================] - 1s 2ms/step - loss: 0.6003 - accuracy: 0.7078\n",
            "Epoch 61/100\n",
            "465/465 [==============================] - 1s 2ms/step - loss: 0.6006 - accuracy: 0.7067\n",
            "Epoch 62/100\n",
            "465/465 [==============================] - 1s 2ms/step - loss: 0.5982 - accuracy: 0.7100\n",
            "Epoch 63/100\n",
            "465/465 [==============================] - 1s 2ms/step - loss: 0.5992 - accuracy: 0.7089\n",
            "Epoch 64/100\n",
            "465/465 [==============================] - 1s 2ms/step - loss: 0.6004 - accuracy: 0.7070\n",
            "Epoch 65/100\n",
            "465/465 [==============================] - 1s 2ms/step - loss: 0.5992 - accuracy: 0.7078\n",
            "Epoch 66/100\n",
            "465/465 [==============================] - 1s 2ms/step - loss: 0.5999 - accuracy: 0.7075\n",
            "Epoch 67/100\n",
            "465/465 [==============================] - 1s 2ms/step - loss: 0.5985 - accuracy: 0.7067\n",
            "Epoch 68/100\n",
            "465/465 [==============================] - 1s 2ms/step - loss: 0.5978 - accuracy: 0.7089\n",
            "Epoch 69/100\n",
            "465/465 [==============================] - 1s 2ms/step - loss: 0.5996 - accuracy: 0.7070\n",
            "Epoch 70/100\n",
            "465/465 [==============================] - 1s 2ms/step - loss: 0.5988 - accuracy: 0.7101\n",
            "Epoch 71/100\n",
            "465/465 [==============================] - 1s 2ms/step - loss: 0.5985 - accuracy: 0.7091\n",
            "Epoch 72/100\n",
            "465/465 [==============================] - 1s 2ms/step - loss: 0.5989 - accuracy: 0.7097\n",
            "Epoch 73/100\n",
            "465/465 [==============================] - 1s 2ms/step - loss: 0.5975 - accuracy: 0.7104\n",
            "Epoch 74/100\n",
            "465/465 [==============================] - 1s 2ms/step - loss: 0.5979 - accuracy: 0.7095\n",
            "Epoch 75/100\n",
            "465/465 [==============================] - 1s 2ms/step - loss: 0.5994 - accuracy: 0.7092\n",
            "Epoch 76/100\n",
            "465/465 [==============================] - 1s 2ms/step - loss: 0.5980 - accuracy: 0.7090\n",
            "Epoch 77/100\n",
            "465/465 [==============================] - 1s 2ms/step - loss: 0.5992 - accuracy: 0.7093\n",
            "Epoch 78/100\n",
            "465/465 [==============================] - 1s 2ms/step - loss: 0.5980 - accuracy: 0.7099\n",
            "Epoch 79/100\n",
            "465/465 [==============================] - 1s 2ms/step - loss: 0.6000 - accuracy: 0.7050\n",
            "Epoch 80/100\n",
            "465/465 [==============================] - 1s 2ms/step - loss: 0.5996 - accuracy: 0.7087\n",
            "Epoch 81/100\n",
            "465/465 [==============================] - 1s 2ms/step - loss: 0.5978 - accuracy: 0.7089\n",
            "Epoch 82/100\n",
            "465/465 [==============================] - 1s 2ms/step - loss: 0.5998 - accuracy: 0.7058\n",
            "Epoch 83/100\n",
            "465/465 [==============================] - 1s 2ms/step - loss: 0.5978 - accuracy: 0.7083\n",
            "Epoch 84/100\n",
            "465/465 [==============================] - 1s 2ms/step - loss: 0.5993 - accuracy: 0.7074\n",
            "Epoch 85/100\n",
            "465/465 [==============================] - 1s 2ms/step - loss: 0.5991 - accuracy: 0.7091\n",
            "Epoch 86/100\n",
            "465/465 [==============================] - 1s 2ms/step - loss: 0.5979 - accuracy: 0.7091\n",
            "Epoch 87/100\n",
            "465/465 [==============================] - 1s 2ms/step - loss: 0.5966 - accuracy: 0.7108\n",
            "Epoch 88/100\n",
            "465/465 [==============================] - 1s 2ms/step - loss: 0.5973 - accuracy: 0.7108\n",
            "Epoch 89/100\n",
            "465/465 [==============================] - 1s 2ms/step - loss: 0.5996 - accuracy: 0.7060\n",
            "Epoch 90/100\n",
            "465/465 [==============================] - 1s 2ms/step - loss: 0.5978 - accuracy: 0.7097\n",
            "Epoch 91/100\n",
            "465/465 [==============================] - 1s 2ms/step - loss: 0.5987 - accuracy: 0.7096\n",
            "Epoch 92/100\n",
            "465/465 [==============================] - 1s 2ms/step - loss: 0.5980 - accuracy: 0.7105\n",
            "Epoch 93/100\n",
            "465/465 [==============================] - 1s 2ms/step - loss: 0.5981 - accuracy: 0.7107\n",
            "Epoch 94/100\n",
            "465/465 [==============================] - 1s 2ms/step - loss: 0.5976 - accuracy: 0.7104\n",
            "Epoch 95/100\n",
            "465/465 [==============================] - 1s 2ms/step - loss: 0.5981 - accuracy: 0.7078\n",
            "Epoch 96/100\n",
            "465/465 [==============================] - 1s 2ms/step - loss: 0.5964 - accuracy: 0.7120\n",
            "Epoch 97/100\n",
            "465/465 [==============================] - 1s 2ms/step - loss: 0.5965 - accuracy: 0.7114\n",
            "Epoch 98/100\n",
            "465/465 [==============================] - 1s 2ms/step - loss: 0.5978 - accuracy: 0.7113\n",
            "Epoch 99/100\n",
            "465/465 [==============================] - 1s 2ms/step - loss: 0.5976 - accuracy: 0.7083\n",
            "Epoch 100/100\n",
            "465/465 [==============================] - 1s 2ms/step - loss: 0.5972 - accuracy: 0.7116\n"
          ]
        }
      ]
    },
    {
      "cell_type": "code",
      "source": [
        "y_pred = ann.predict(X_test)\n",
        "y_pred = (y_pred > 0.5)"
      ],
      "metadata": {
        "id": "1QqragLWigbU"
      },
      "execution_count": 38,
      "outputs": []
    },
    {
      "cell_type": "code",
      "source": [
        "confusion_matrix(y_test, y_pred)"
      ],
      "metadata": {
        "colab": {
          "base_uri": "https://localhost:8080/"
        },
        "id": "wKtZu5DpigfC",
        "outputId": "4dbca564-78a1-4bb2-e9ec-6fbf3942f626"
      },
      "execution_count": 39,
      "outputs": [
        {
          "output_type": "execute_result",
          "data": {
            "text/plain": [
              "array([[3993, 1293],\n",
              "       [1725, 3489]])"
            ]
          },
          "metadata": {},
          "execution_count": 39
        }
      ]
    },
    {
      "cell_type": "code",
      "source": [
        "accuracy_score(y_test, y_pred)"
      ],
      "metadata": {
        "colab": {
          "base_uri": "https://localhost:8080/"
        },
        "id": "FCYdvbMBikoK",
        "outputId": "c57f280f-09e7-4788-d214-a51e7bb090b9"
      },
      "execution_count": 40,
      "outputs": [
        {
          "output_type": "execute_result",
          "data": {
            "text/plain": [
              "0.7125714285714285"
            ]
          },
          "metadata": {},
          "execution_count": 40
        }
      ]
    }
  ]
}