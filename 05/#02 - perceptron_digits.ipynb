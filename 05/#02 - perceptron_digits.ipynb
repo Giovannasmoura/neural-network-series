{
 "cells": [
  {
   "cell_type": "code",
   "execution_count": 3,
   "id": "18017341",
   "metadata": {},
   "outputs": [],
   "source": [
    "from sklearn.datasets import load_digits #importar a base de dados\n",
    "from sklearn.linear_model import Perceptron #importa o perceptron"
   ]
  },
  {
   "cell_type": "markdown",
   "id": "a40bd4de",
   "metadata": {},
   "source": [
    "# Base de Dados"
   ]
  },
  {
   "cell_type": "code",
   "execution_count": 11,
   "id": "db2051e4",
   "metadata": {},
   "outputs": [
    {
     "name": "stdout",
     "output_type": "stream",
     "text": [
      "1797\n"
     ]
    }
   ],
   "source": [
    "X, y = load_digits(return_X_y=True) #retorna a base de dados\n",
    "\n",
    "print(len(X))"
   ]
  },
  {
   "cell_type": "code",
   "execution_count": 13,
   "id": "d056c228",
   "metadata": {},
   "outputs": [
    {
     "data": {
      "text/plain": [
       "array([ 0.,  0.,  5., 13.,  9.,  1.,  0.,  0.,  0.,  0., 13., 15., 10.,\n",
       "       15.,  5.,  0.,  0.,  3., 15.,  2.,  0., 11.,  8.,  0.,  0.,  4.,\n",
       "       12.,  0.,  0.,  8.,  8.,  0.,  0.,  5.,  8.,  0.,  0.,  9.,  8.,\n",
       "        0.,  0.,  4., 11.,  0.,  1., 12.,  7.,  0.,  0.,  2., 14.,  5.,\n",
       "       10., 12.,  0.,  0.,  0.,  0.,  6., 13., 10.,  0.,  0.,  0.])"
      ]
     },
     "execution_count": 13,
     "metadata": {},
     "output_type": "execute_result"
    }
   ],
   "source": [
    "X[0]"
   ]
  },
  {
   "cell_type": "markdown",
   "id": "edfc3351",
   "metadata": {},
   "source": [
    "# Rede Neural"
   ]
  },
  {
   "cell_type": "code",
   "execution_count": 9,
   "id": "8fc2adcf",
   "metadata": {},
   "outputs": [
    {
     "data": {
      "text/plain": [
       "0.9393433500278241"
      ]
     },
     "execution_count": 9,
     "metadata": {},
     "output_type": "execute_result"
    }
   ],
   "source": [
    "ppn = Perceptron(random_state=0)\n",
    "\n",
    "ppn.fit(X, y)\n",
    "\n",
    "ppn.score(X, y)"
   ]
  },
  {
   "cell_type": "markdown",
   "id": "64c836cb",
   "metadata": {},
   "source": [
    "# Links Extras\n",
    "\n",
    "* https://www.youtube.com/playlist?list=PLeo1K3hjS3uu7CxAacxVndI4bE_o3BDtO\n",
    "* https://www.youtube.com/watch?v=aircAruvnKk\n",
    "* https://www.youtube.com/watch?v=c6NBkkKNZXw&list=PLxt59R_fWVzT9bDxA76AHm3ig0Gg9S3So&index=5\n",
    "* https://machinelearningmastery.com/implement-perceptron-algorithm-scratch-python/\n",
    "* https://scikit-learn.org/0.15/modules/generated/sklearn.linear_model.Perceptron.html\n",
    "* https://chrisalbon.com/machine_learning/basics/perceptron_in_scikit-learn/"
   ]
  }
 ],
 "metadata": {
  "kernelspec": {
   "display_name": ".virtualnn",
   "language": "python",
   "name": ".virtualnn"
  },
  "language_info": {
   "codemirror_mode": {
    "name": "ipython",
    "version": 3
   },
   "file_extension": ".py",
   "mimetype": "text/x-python",
   "name": "python",
   "nbconvert_exporter": "python",
   "pygments_lexer": "ipython3",
   "version": "3.8.6"
  }
 },
 "nbformat": 4,
 "nbformat_minor": 5
}
