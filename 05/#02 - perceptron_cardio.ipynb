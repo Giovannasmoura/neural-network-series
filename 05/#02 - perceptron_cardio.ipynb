{
 "cells": [
  {
   "cell_type": "code",
   "execution_count": 252,
   "id": "cfbdd74f",
   "metadata": {},
   "outputs": [],
   "source": [
    "from sklearn import datasets\n",
    "from sklearn.preprocessing import StandardScaler\n",
    "from sklearn.linear_model import Perceptron\n",
    "from sklearn.model_selection import train_test_split\n",
    "from sklearn.metrics import accuracy_score\n",
    "from sklearn.metrics import confusion_matrix\n",
    "from sklearn.metrics import plot_confusion_matrix\n",
    "import numpy as np\n",
    "import pandas as pd\n",
    "import matplotlib.pyplot as plt"
   ]
  },
  {
   "cell_type": "markdown",
   "id": "ead110fc",
   "metadata": {},
   "source": [
    "# Tratamento de Base de Dados"
   ]
  },
  {
   "cell_type": "code",
   "execution_count": 253,
   "id": "339f1158",
   "metadata": {},
   "outputs": [
    {
     "name": "stdout",
     "output_type": "stream",
     "text": [
      "70000\n"
     ]
    }
   ],
   "source": [
    "original_data = pd.read_csv(\"cardio.csv\", sep=';')\n",
    "data = original_data.iloc[:, 1:]\n",
    "\n",
    "X = data.iloc[:, :-1]\n",
    "y = data.iloc[:, -1:]\n",
    "\n",
    "print(len(X))"
   ]
  },
  {
   "cell_type": "code",
   "execution_count": 254,
   "id": "54a15f6d",
   "metadata": {},
   "outputs": [],
   "source": [
    "X_train, X_test, y_train, y_test = train_test_split(X, y, test_size=0.15)"
   ]
  },
  {
   "cell_type": "code",
   "execution_count": 255,
   "id": "7b90ef7e",
   "metadata": {},
   "outputs": [],
   "source": [
    "sc = StandardScaler()\n",
    "sc.fit(X_train)\n",
    "\n",
    "X_train_scaled = sc.transform(X_train.values)\n",
    "X_test_scaled = sc.transform(X_test.values)"
   ]
  },
  {
   "cell_type": "markdown",
   "id": "461975c6",
   "metadata": {},
   "source": [
    "# Perceptron"
   ]
  },
  {
   "cell_type": "code",
   "execution_count": 261,
   "id": "7f3d5d5d",
   "metadata": {},
   "outputs": [
    {
     "data": {
      "text/plain": [
       "Perceptron(eta0=0.1)"
      ]
     },
     "execution_count": 261,
     "metadata": {},
     "output_type": "execute_result"
    }
   ],
   "source": [
    "ppn = Perceptron(max_iter=1000, eta0=0.1, random_state=0)\n",
    "ppn.fit(X_train, y_train.values.ravel())"
   ]
  },
  {
   "cell_type": "code",
   "execution_count": 262,
   "id": "33e90aed",
   "metadata": {},
   "outputs": [],
   "source": [
    "y_pred = ppn.predict(X_test)"
   ]
  },
  {
   "cell_type": "code",
   "execution_count": 263,
   "id": "c90dcc45",
   "metadata": {},
   "outputs": [
    {
     "data": {
      "text/plain": [
       "array([[5247,    5],\n",
       "       [5241,    7]], dtype=int64)"
      ]
     },
     "execution_count": 263,
     "metadata": {},
     "output_type": "execute_result"
    }
   ],
   "source": [
    "confusion_matrix(y_test, y_pred)"
   ]
  },
  {
   "cell_type": "code",
   "execution_count": 264,
   "id": "bf70313b",
   "metadata": {},
   "outputs": [
    {
     "data": {
      "text/plain": [
       "<sklearn.metrics._plot.confusion_matrix.ConfusionMatrixDisplay at 0x1a11232c790>"
      ]
     },
     "execution_count": 264,
     "metadata": {},
     "output_type": "execute_result"
    },
    {
     "data": {
      "image/png": "[encoded data removed]",
      "text/plain": [
       "<Figure size 432x288 with 2 Axes>"
      ]
     },
     "metadata": {
      "needs_background": "light"
     },
     "output_type": "display_data"
    }
   ],
   "source": [
    "plot_confusion_matrix(ppn, X_test, y_test) "
   ]
  },
  {
   "cell_type": "code",
   "execution_count": 265,
   "id": "3df9a99d",
   "metadata": {},
   "outputs": [
    {
     "data": {
      "text/plain": [
       "0.5003809523809524"
      ]
     },
     "execution_count": 265,
     "metadata": {},
     "output_type": "execute_result"
    }
   ],
   "source": [
    "accuracy_score(y_test, y_pred)"
   ]
  },
  {
   "cell_type": "markdown",
   "id": "d4111593",
   "metadata": {},
   "source": [
    "# Perceptron Multicamada"
   ]
  },
  {
   "cell_type": "code",
   "execution_count": 266,
   "id": "6e85e036",
   "metadata": {},
   "outputs": [],
   "source": [
    "import tensorflow as tf\n",
    "from tensorflow import keras\n",
    "from tensorflow.keras import layers"
   ]
  },
  {
   "cell_type": "code",
   "execution_count": 267,
   "id": "24c6745e",
   "metadata": {},
   "outputs": [],
   "source": [
    "import random as python_random\n",
    "\n",
    "SEED = 0\n",
    "\n",
    "np.random.seed(SEED)\n",
    "python_random.seed(SEED)\n",
    "tf.random.set_seed(SEED)"
   ]
  },
  {
   "cell_type": "code",
   "execution_count": 268,
   "id": "48f0dd0f",
   "metadata": {},
   "outputs": [],
   "source": [
    "ann = keras.Sequential()\n",
    "ann.add(layers.Dense(6, activation='relu'))\n",
    "ann.add(layers.Dense(1, activation='sigmoid'))\n",
    "\n",
    "ann.compile(optimizer='adam', loss='binary_crossentropy', metrics=['accuracy'])\n",
    "#mencionar que o adam é um stochastic gradient-based optimizer proposed by Kingma, Diederik, and Jimmy Ba"
   ]
  },
  {
   "cell_type": "code",
   "execution_count": 269,
   "id": "db8f9014",
   "metadata": {
    "scrolled": true
   },
   "outputs": [
    {
     "name": "stdout",
     "output_type": "stream",
     "text": [
      "Epoch 1/100\n",
      "465/465 [==============================] - 1s 537us/step - loss: 160.7282 - accuracy: 0.5013\n",
      "Epoch 2/100\n",
      "465/465 [==============================] - 0s 597us/step - loss: 0.7452 - accuracy: 0.5038\n",
      "Epoch 3/100\n",
      "465/465 [==============================] - 0s 534us/step - loss: 0.7426 - accuracy: 0.50470s - loss: 0.7474 - accuracy: 0.\n",
      "Epoch 4/100\n",
      "465/465 [==============================] - 0s 526us/step - loss: 0.8450 - accuracy: 0.5034\n",
      "Epoch 5/100\n",
      "465/465 [==============================] - 0s 550us/step - loss: 0.7565 - accuracy: 0.5060\n",
      "Epoch 6/100\n",
      "465/465 [==============================] - 0s 506us/step - loss: 0.7624 - accuracy: 0.5026\n",
      "Epoch 7/100\n",
      "465/465 [==============================] - 0s 517us/step - loss: 0.7713 - accuracy: 0.50910s - loss: 0.7873 - accuracy: 0.\n",
      "Epoch 8/100\n",
      "465/465 [==============================] - 0s 508us/step - loss: 0.7599 - accuracy: 0.5144\n",
      "Epoch 9/100\n",
      "465/465 [==============================] - 0s 509us/step - loss: 0.7720 - accuracy: 0.5077\n",
      "Epoch 10/100\n",
      "465/465 [==============================] - 0s 513us/step - loss: 0.7371 - accuracy: 0.5113\n",
      "Epoch 11/100\n",
      "465/465 [==============================] - 0s 511us/step - loss: 0.7146 - accuracy: 0.5172\n",
      "Epoch 12/100\n",
      "465/465 [==============================] - 0s 500us/step - loss: 0.7316 - accuracy: 0.5112\n",
      "Epoch 13/100\n",
      "465/465 [==============================] - 0s 513us/step - loss: 0.7092 - accuracy: 0.5197\n",
      "Epoch 14/100\n",
      "465/465 [==============================] - 0s 508us/step - loss: 0.7119 - accuracy: 0.5180\n",
      "Epoch 15/100\n",
      "465/465 [==============================] - 0s 515us/step - loss: 0.6960 - accuracy: 0.5269\n",
      "Epoch 16/100\n",
      "465/465 [==============================] - 0s 511us/step - loss: 0.6938 - accuracy: 0.5316\n",
      "Epoch 17/100\n",
      "465/465 [==============================] - 0s 519us/step - loss: 0.6880 - accuracy: 0.5445\n",
      "Epoch 18/100\n",
      "465/465 [==============================] - 0s 513us/step - loss: 0.6853 - accuracy: 0.5525\n",
      "Epoch 19/100\n",
      "465/465 [==============================] - 0s 517us/step - loss: 0.6798 - accuracy: 0.5785\n",
      "Epoch 20/100\n",
      "465/465 [==============================] - 0s 513us/step - loss: 0.6739 - accuracy: 0.6026\n",
      "Epoch 21/100\n",
      "465/465 [==============================] - 0s 519us/step - loss: 0.6686 - accuracy: 0.6218\n",
      "Epoch 22/100\n",
      "465/465 [==============================] - 0s 511us/step - loss: 0.6610 - accuracy: 0.6416\n",
      "Epoch 23/100\n",
      "465/465 [==============================] - 0s 509us/step - loss: 0.6515 - accuracy: 0.6626\n",
      "Epoch 24/100\n",
      "465/465 [==============================] - 0s 506us/step - loss: 0.6285 - accuracy: 0.6803\n",
      "Epoch 25/100\n",
      "465/465 [==============================] - 0s 506us/step - loss: 0.6186 - accuracy: 0.6851\n",
      "Epoch 26/100\n",
      "465/465 [==============================] - 0s 670us/step - loss: 0.6169 - accuracy: 0.6941\n",
      "Epoch 27/100\n",
      "465/465 [==============================] - 0s 550us/step - loss: 0.5971 - accuracy: 0.6963\n",
      "Epoch 28/100\n",
      "465/465 [==============================] - 0s 545us/step - loss: 0.6041 - accuracy: 0.6942\n",
      "Epoch 29/100\n",
      "465/465 [==============================] - 0s 541us/step - loss: 0.5975 - accuracy: 0.7013\n",
      "Epoch 30/100\n",
      "465/465 [==============================] - 0s 577us/step - loss: 0.5978 - accuracy: 0.7003\n",
      "Epoch 31/100\n",
      "465/465 [==============================] - 0s 573us/step - loss: 0.5961 - accuracy: 0.6992\n",
      "Epoch 32/100\n",
      "465/465 [==============================] - 0s 593us/step - loss: 0.5943 - accuracy: 0.7067\n",
      "Epoch 33/100\n",
      "465/465 [==============================] - 0s 584us/step - loss: 0.5919 - accuracy: 0.7018\n",
      "Epoch 34/100\n",
      "465/465 [==============================] - 0s 550us/step - loss: 0.6108 - accuracy: 0.6996\n",
      "Epoch 35/100\n",
      "465/465 [==============================] - 0s 578us/step - loss: 0.5959 - accuracy: 0.7056\n",
      "Epoch 36/100\n",
      "465/465 [==============================] - 0s 586us/step - loss: 0.5931 - accuracy: 0.7005\n",
      "Epoch 37/100\n",
      "465/465 [==============================] - 0s 534us/step - loss: 0.5967 - accuracy: 0.7035\n",
      "Epoch 38/100\n",
      "465/465 [==============================] - 0s 532us/step - loss: 0.5901 - accuracy: 0.7053\n",
      "Epoch 39/100\n",
      "465/465 [==============================] - 0s 550us/step - loss: 0.5933 - accuracy: 0.70140s - loss: 0.5932 - accuracy: 0.70\n",
      "Epoch 40/100\n",
      "465/465 [==============================] - 0s 541us/step - loss: 0.5974 - accuracy: 0.7041\n",
      "Epoch 41/100\n",
      "465/465 [==============================] - 0s 569us/step - loss: 0.6236 - accuracy: 0.7062\n",
      "Epoch 42/100\n",
      "465/465 [==============================] - 0s 539us/step - loss: 0.6027 - accuracy: 0.7051\n",
      "Epoch 43/100\n",
      "465/465 [==============================] - 0s 556us/step - loss: 0.6035 - accuracy: 0.7004\n",
      "Epoch 44/100\n",
      "465/465 [==============================] - 0s 537us/step - loss: 0.6086 - accuracy: 0.7032\n",
      "Epoch 45/100\n",
      "465/465 [==============================] - 0s 504us/step - loss: 0.5944 - accuracy: 0.7078\n",
      "Epoch 46/100\n",
      "465/465 [==============================] - 0s 500us/step - loss: 0.6199 - accuracy: 0.7005\n",
      "Epoch 47/100\n",
      "465/465 [==============================] - 0s 506us/step - loss: 0.6143 - accuracy: 0.7019\n",
      "Epoch 48/100\n",
      "465/465 [==============================] - 0s 565us/step - loss: 0.5937 - accuracy: 0.7083\n",
      "Epoch 49/100\n",
      "465/465 [==============================] - 0s 522us/step - loss: 0.5984 - accuracy: 0.7049\n",
      "Epoch 50/100\n",
      "465/465 [==============================] - 0s 500us/step - loss: 0.5977 - accuracy: 0.7068\n",
      "Epoch 51/100\n",
      "465/465 [==============================] - 0s 509us/step - loss: 0.5907 - accuracy: 0.7103\n",
      "Epoch 52/100\n",
      "465/465 [==============================] - 0s 506us/step - loss: 0.6072 - accuracy: 0.7044\n",
      "Epoch 53/100\n",
      "465/465 [==============================] - 0s 509us/step - loss: 0.5966 - accuracy: 0.6988\n",
      "Epoch 54/100\n",
      "465/465 [==============================] - 0s 511us/step - loss: 0.5936 - accuracy: 0.7086\n",
      "Epoch 55/100\n",
      "465/465 [==============================] - 0s 517us/step - loss: 0.5941 - accuracy: 0.7098\n",
      "Epoch 56/100\n",
      "465/465 [==============================] - 0s 502us/step - loss: 0.5894 - accuracy: 0.7059\n",
      "Epoch 57/100\n",
      "465/465 [==============================] - 0s 509us/step - loss: 0.6050 - accuracy: 0.7093\n",
      "Epoch 58/100\n",
      "465/465 [==============================] - 0s 519us/step - loss: 0.6004 - accuracy: 0.7076\n",
      "Epoch 59/100\n",
      "465/465 [==============================] - 0s 524us/step - loss: 0.5937 - accuracy: 0.7074\n",
      "Epoch 60/100\n",
      "465/465 [==============================] - 0s 519us/step - loss: 0.6104 - accuracy: 0.7006\n",
      "Epoch 61/100\n",
      "465/465 [==============================] - 0s 522us/step - loss: 0.5988 - accuracy: 0.7097\n",
      "Epoch 62/100\n",
      "465/465 [==============================] - 0s 506us/step - loss: 0.5899 - accuracy: 0.7086\n",
      "Epoch 63/100\n",
      "465/465 [==============================] - 0s 509us/step - loss: 0.5974 - accuracy: 0.7083\n",
      "Epoch 64/100\n",
      "465/465 [==============================] - 0s 515us/step - loss: 0.6174 - accuracy: 0.7038\n",
      "Epoch 65/100\n",
      "465/465 [==============================] - 0s 515us/step - loss: 0.5960 - accuracy: 0.7045\n",
      "Epoch 66/100\n",
      "465/465 [==============================] - 0s 522us/step - loss: 0.5879 - accuracy: 0.7122\n",
      "Epoch 67/100\n",
      "465/465 [==============================] - 0s 517us/step - loss: 0.5955 - accuracy: 0.7064\n",
      "Epoch 68/100\n",
      "465/465 [==============================] - 0s 515us/step - loss: 0.5861 - accuracy: 0.7120\n",
      "Epoch 69/100\n",
      "465/465 [==============================] - 0s 504us/step - loss: 0.5960 - accuracy: 0.7038\n",
      "Epoch 70/100\n",
      "465/465 [==============================] - 0s 509us/step - loss: 0.5918 - accuracy: 0.7071\n",
      "Epoch 71/100\n",
      "465/465 [==============================] - 0s 515us/step - loss: 0.6327 - accuracy: 0.7073\n",
      "Epoch 72/100\n",
      "465/465 [==============================] - 0s 509us/step - loss: 0.6246 - accuracy: 0.6991\n",
      "Epoch 73/100\n",
      "465/465 [==============================] - 0s 504us/step - loss: 0.5877 - accuracy: 0.7117\n",
      "Epoch 74/100\n",
      "465/465 [==============================] - 0s 532us/step - loss: 0.5881 - accuracy: 0.7125\n",
      "Epoch 75/100\n",
      "465/465 [==============================] - 0s 532us/step - loss: 0.5946 - accuracy: 0.7103\n",
      "Epoch 76/100\n",
      "465/465 [==============================] - 0s 547us/step - loss: 0.6025 - accuracy: 0.7054\n",
      "Epoch 77/100\n",
      "465/465 [==============================] - 0s 502us/step - loss: 0.5959 - accuracy: 0.7064\n",
      "Epoch 78/100\n"
     ]
    },
    {
     "name": "stdout",
     "output_type": "stream",
     "text": [
      "465/465 [==============================] - 0s 506us/step - loss: 0.6064 - accuracy: 0.7144\n",
      "Epoch 79/100\n",
      "465/465 [==============================] - 0s 509us/step - loss: 0.5917 - accuracy: 0.7052\n",
      "Epoch 80/100\n",
      "465/465 [==============================] - 0s 513us/step - loss: 0.5914 - accuracy: 0.7120\n",
      "Epoch 81/100\n",
      "465/465 [==============================] - 0s 506us/step - loss: 0.6118 - accuracy: 0.7088\n",
      "Epoch 82/100\n",
      "465/465 [==============================] - 0s 524us/step - loss: 0.6108 - accuracy: 0.7069\n",
      "Epoch 83/100\n",
      "465/465 [==============================] - 0s 515us/step - loss: 0.5935 - accuracy: 0.7066\n",
      "Epoch 84/100\n",
      "465/465 [==============================] - 0s 524us/step - loss: 0.6003 - accuracy: 0.7100\n",
      "Epoch 85/100\n",
      "465/465 [==============================] - 0s 518us/step - loss: 0.6062 - accuracy: 0.7086\n",
      "Epoch 86/100\n",
      "465/465 [==============================] - 0s 513us/step - loss: 0.5988 - accuracy: 0.7134\n",
      "Epoch 87/100\n",
      "465/465 [==============================] - 0s 513us/step - loss: 0.6249 - accuracy: 0.7101\n",
      "Epoch 88/100\n",
      "465/465 [==============================] - 0s 509us/step - loss: 0.5955 - accuracy: 0.7082\n",
      "Epoch 89/100\n",
      "465/465 [==============================] - 0s 517us/step - loss: 0.5967 - accuracy: 0.7064\n",
      "Epoch 90/100\n",
      "465/465 [==============================] - 0s 522us/step - loss: 0.6102 - accuracy: 0.7107\n",
      "Epoch 91/100\n",
      "465/465 [==============================] - 0s 519us/step - loss: 0.5971 - accuracy: 0.7058\n",
      "Epoch 92/100\n",
      "465/465 [==============================] - 0s 511us/step - loss: 0.5890 - accuracy: 0.7075\n",
      "Epoch 93/100\n",
      "465/465 [==============================] - 0s 522us/step - loss: 0.5932 - accuracy: 0.7079\n",
      "Epoch 94/100\n",
      "465/465 [==============================] - 0s 511us/step - loss: 0.5846 - accuracy: 0.7107\n",
      "Epoch 95/100\n",
      "465/465 [==============================] - 0s 513us/step - loss: 0.6088 - accuracy: 0.7106\n",
      "Epoch 96/100\n",
      "465/465 [==============================] - 0s 537us/step - loss: 0.5996 - accuracy: 0.7069\n",
      "Epoch 97/100\n",
      "465/465 [==============================] - 0s 517us/step - loss: 0.6048 - accuracy: 0.7091\n",
      "Epoch 98/100\n",
      "465/465 [==============================] - 0s 522us/step - loss: 0.5836 - accuracy: 0.7130\n",
      "Epoch 99/100\n",
      "465/465 [==============================] - 0s 517us/step - loss: 0.6077 - accuracy: 0.7072\n",
      "Epoch 100/100\n",
      "465/465 [==============================] - 0s 522us/step - loss: 0.5998 - accuracy: 0.7126\n"
     ]
    }
   ],
   "source": [
    "history = ann.fit(X_train, y_train, batch_size=128, epochs=100)"
   ]
  },
  {
   "cell_type": "code",
   "execution_count": 288,
   "id": "6c1d1e0e",
   "metadata": {},
   "outputs": [],
   "source": [
    "y_pred = ann.predict(X_test)\n",
    "y_pred = (y_pred > 0.5)"
   ]
  },
  {
   "cell_type": "code",
   "execution_count": 290,
   "id": "70da214b",
   "metadata": {},
   "outputs": [
    {
     "data": {
      "text/plain": [
       "array([[4244, 1008],\n",
       "       [1963, 3285]], dtype=int64)"
      ]
     },
     "execution_count": 290,
     "metadata": {},
     "output_type": "execute_result"
    }
   ],
   "source": [
    "confusion_matrix(y_test, y_pred)"
   ]
  },
  {
   "cell_type": "code",
   "execution_count": 274,
   "id": "a0f3f219",
   "metadata": {},
   "outputs": [
    {
     "data": {
      "text/plain": [
       "0.717047619047619"
      ]
     },
     "execution_count": 274,
     "metadata": {},
     "output_type": "execute_result"
    }
   ],
   "source": [
    "accuracy_score(y_test, y_pred)"
   ]
  },
  {
   "cell_type": "code",
   "execution_count": null,
   "id": "90f966b3",
   "metadata": {},
   "outputs": [],
   "source": []
  },
  {
   "cell_type": "code",
   "execution_count": null,
   "id": "b14ae0e0",
   "metadata": {},
   "outputs": [],
   "source": []
  },
  {
   "cell_type": "code",
   "execution_count": null,
   "id": "8bdb701d",
   "metadata": {},
   "outputs": [],
   "source": []
  }
 ],
 "metadata": {
  "kernelspec": {
   "display_name": ".virtualnn",
   "language": "python",
   "name": ".virtualnn"
  },
  "language_info": {
   "codemirror_mode": {
    "name": "ipython",
    "version": 3
   },
   "file_extension": ".py",
   "mimetype": "text/x-python",
   "name": "python",
   "nbconvert_exporter": "python",
   "pygments_lexer": "ipython3",
   "version": "3.8.6"
  }
 },
 "nbformat": 4,
 "nbformat_minor": 5
}
