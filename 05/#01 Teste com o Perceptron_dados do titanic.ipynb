{
 "cells": [
  {
   "cell_type": "code",
   "execution_count": 3,
   "id": "18017341",
   "metadata": {},
   "outputs": [],
   "source": [
    "# Importanto pacotes para trabalhar com Perceptron \n",
    "from sklearn.preprocessing import StandardScaler \n",
    "from sklearn.preprocessing import LabelEncoder\n",
    "from sklearn.preprocessing import OneHotEncoder\n",
    "from sklearn.linear_model import Perceptron\n",
    "# Separação dos dados de teste e treino\n",
    "from sklearn.model_selection import train_test_split \n",
    "# Pacotes para averiguar a acuracia do treinamento \n",
    "from sklearn.metrics import accuracy_score\n",
    "from sklearn.metrics import confusion_matrix\n",
    "from sklearn.metrics import plot_confusion_matrix\n",
    "# Manipulação dos dados\n",
    "import numpy as np\n",
    "import pandas as pd"
   ]
  },
  {
   "cell_type": "markdown",
   "id": "a40bd4de",
   "metadata": {},
   "source": [
    "# Tratamento de Base de Dados"
   ]
  },
  {
   "cell_type": "markdown",
   "id": "58b13f07",
   "metadata": {},
   "source": [
    "Todas as bases de dados precisam ser editadas, pois por ventura sempre há dados não preenchidos e\\ou incopativeis, no qual o Python não consegue ler. Sendo assim, logo a baixo iremos editar os dados da planilha dos sobreviventes do titanic para posteriormente treinar o perceptron. "
   ]
  },
  {
   "cell_type": "code",
   "execution_count": 4,
   "id": "db2051e4",
   "metadata": {},
   "outputs": [],
   "source": [
    "# Os arquivos CSV são arquivos em modelo de texto editavél, em arquivo em excel pode ser salvo em CSV pois ele é muito útil para integração dos dados. \n",
    "train_data = pd.read_csv(\"titanic_train.csv\")\n",
    "test_data = pd.read_csv(\"titanic_test.csv\")\n",
    "\n",
    "dropped_test = test_data.dropna()  # A dropna deleta as linhas e os campos que estiverem vazios."
   ]
  },
  {
   "cell_type": "markdown",
   "id": "b978f421",
   "metadata": {},
   "source": [
    "Há varias colunas na planilha do titanic, sendo que algumas não uteis para treinar a rede, sendo assim abaixo iremos excluir as que não vamos usar. "
   ]
  },
  {
   "cell_type": "code",
   "execution_count": 5,
   "id": "bb941b32",
   "metadata": {},
   "outputs": [],
   "source": [
    "train_data.drop(['PassengerId', 'Name', 'Ticket', 'Cabin'], axis=1, inplace=True)\n",
    "test_data.drop(['PassengerId', 'Name', 'Ticket', 'Cabin'], axis=1, inplace=True)\n",
    "# O 'axis' exclui a coluna inteira e o 'inplace' \"confirma\" a exclusão. "
   ]
  },
  {
   "cell_type": "markdown",
   "id": "f9f6ed41",
   "metadata": {},
   "source": [
    "A rede neural, não pode trabalhar com elementos que não sejam números, no dados do titanic há sexo feminino e masculino, sendo assim eles precisam ser convertidos em número representativo de preferencia binário. Para que não seja agregado \"pesos\" diferentes. Por isso, usa-se o 'labelencoder'."
   ]
  },
  {
   "cell_type": "code",
   "execution_count": 6,
   "id": "21997166",
   "metadata": {},
   "outputs": [],
   "source": [
    "le = LabelEncoder()\n",
    "train_data[\"Sex\"] = le.fit_transform(train_data[\"Sex\"])\n",
    "test_data[\"Sex\"] = le.fit_transform(test_data[\"Sex\"])"
   ]
  },
  {
   "cell_type": "markdown",
   "id": "a3eaa37b",
   "metadata": {},
   "source": [
    "Para transformar o código superior em número binário, vamos utilizar o 'oneHotEncoder'."
   ]
  },
  {
   "cell_type": "code",
   "execution_count": 7,
   "id": "1c4a739c",
   "metadata": {},
   "outputs": [
    {
     "data": {
      "text/html": [
       "<div>\n",
       "<style scoped>\n",
       "    .dataframe tbody tr th:only-of-type {\n",
       "        vertical-align: middle;\n",
       "    }\n",
       "\n",
       "    .dataframe tbody tr th {\n",
       "        vertical-align: top;\n",
       "    }\n",
       "\n",
       "    .dataframe thead th {\n",
       "        text-align: right;\n",
       "    }\n",
       "</style>\n",
       "<table border=\"1\" class=\"dataframe\">\n",
       "  <thead>\n",
       "    <tr style=\"text-align: right;\">\n",
       "      <th></th>\n",
       "      <th>Pclass</th>\n",
       "      <th>Sex</th>\n",
       "      <th>Age</th>\n",
       "      <th>SibSp</th>\n",
       "      <th>Parch</th>\n",
       "      <th>Fare</th>\n",
       "      <th>0</th>\n",
       "      <th>1</th>\n",
       "      <th>2</th>\n",
       "    </tr>\n",
       "  </thead>\n",
       "  <tbody>\n",
       "    <tr>\n",
       "      <th>0</th>\n",
       "      <td>3</td>\n",
       "      <td>1</td>\n",
       "      <td>34.5</td>\n",
       "      <td>0</td>\n",
       "      <td>0</td>\n",
       "      <td>7.8292</td>\n",
       "      <td>0.0</td>\n",
       "      <td>1.0</td>\n",
       "      <td>0.0</td>\n",
       "    </tr>\n",
       "    <tr>\n",
       "      <th>1</th>\n",
       "      <td>3</td>\n",
       "      <td>0</td>\n",
       "      <td>47.0</td>\n",
       "      <td>1</td>\n",
       "      <td>0</td>\n",
       "      <td>7.0000</td>\n",
       "      <td>0.0</td>\n",
       "      <td>0.0</td>\n",
       "      <td>1.0</td>\n",
       "    </tr>\n",
       "    <tr>\n",
       "      <th>2</th>\n",
       "      <td>2</td>\n",
       "      <td>1</td>\n",
       "      <td>62.0</td>\n",
       "      <td>0</td>\n",
       "      <td>0</td>\n",
       "      <td>9.6875</td>\n",
       "      <td>0.0</td>\n",
       "      <td>1.0</td>\n",
       "      <td>0.0</td>\n",
       "    </tr>\n",
       "    <tr>\n",
       "      <th>3</th>\n",
       "      <td>3</td>\n",
       "      <td>1</td>\n",
       "      <td>27.0</td>\n",
       "      <td>0</td>\n",
       "      <td>0</td>\n",
       "      <td>8.6625</td>\n",
       "      <td>0.0</td>\n",
       "      <td>0.0</td>\n",
       "      <td>1.0</td>\n",
       "    </tr>\n",
       "    <tr>\n",
       "      <th>4</th>\n",
       "      <td>3</td>\n",
       "      <td>0</td>\n",
       "      <td>22.0</td>\n",
       "      <td>1</td>\n",
       "      <td>1</td>\n",
       "      <td>12.2875</td>\n",
       "      <td>0.0</td>\n",
       "      <td>0.0</td>\n",
       "      <td>1.0</td>\n",
       "    </tr>\n",
       "    <tr>\n",
       "      <th>...</th>\n",
       "      <td>...</td>\n",
       "      <td>...</td>\n",
       "      <td>...</td>\n",
       "      <td>...</td>\n",
       "      <td>...</td>\n",
       "      <td>...</td>\n",
       "      <td>...</td>\n",
       "      <td>...</td>\n",
       "      <td>...</td>\n",
       "    </tr>\n",
       "    <tr>\n",
       "      <th>413</th>\n",
       "      <td>3</td>\n",
       "      <td>1</td>\n",
       "      <td>NaN</td>\n",
       "      <td>0</td>\n",
       "      <td>0</td>\n",
       "      <td>8.0500</td>\n",
       "      <td>0.0</td>\n",
       "      <td>0.0</td>\n",
       "      <td>1.0</td>\n",
       "    </tr>\n",
       "    <tr>\n",
       "      <th>414</th>\n",
       "      <td>1</td>\n",
       "      <td>0</td>\n",
       "      <td>39.0</td>\n",
       "      <td>0</td>\n",
       "      <td>0</td>\n",
       "      <td>108.9000</td>\n",
       "      <td>1.0</td>\n",
       "      <td>0.0</td>\n",
       "      <td>0.0</td>\n",
       "    </tr>\n",
       "    <tr>\n",
       "      <th>415</th>\n",
       "      <td>3</td>\n",
       "      <td>1</td>\n",
       "      <td>38.5</td>\n",
       "      <td>0</td>\n",
       "      <td>0</td>\n",
       "      <td>7.2500</td>\n",
       "      <td>0.0</td>\n",
       "      <td>0.0</td>\n",
       "      <td>1.0</td>\n",
       "    </tr>\n",
       "    <tr>\n",
       "      <th>416</th>\n",
       "      <td>3</td>\n",
       "      <td>1</td>\n",
       "      <td>NaN</td>\n",
       "      <td>0</td>\n",
       "      <td>0</td>\n",
       "      <td>8.0500</td>\n",
       "      <td>0.0</td>\n",
       "      <td>0.0</td>\n",
       "      <td>1.0</td>\n",
       "    </tr>\n",
       "    <tr>\n",
       "      <th>417</th>\n",
       "      <td>3</td>\n",
       "      <td>1</td>\n",
       "      <td>NaN</td>\n",
       "      <td>1</td>\n",
       "      <td>1</td>\n",
       "      <td>22.3583</td>\n",
       "      <td>1.0</td>\n",
       "      <td>0.0</td>\n",
       "      <td>0.0</td>\n",
       "    </tr>\n",
       "  </tbody>\n",
       "</table>\n",
       "<p>418 rows × 9 columns</p>\n",
       "</div>"
      ],
      "text/plain": [
       "     Pclass  Sex   Age  SibSp  Parch      Fare    0    1    2\n",
       "0         3    1  34.5      0      0    7.8292  0.0  1.0  0.0\n",
       "1         3    0  47.0      1      0    7.0000  0.0  0.0  1.0\n",
       "2         2    1  62.0      0      0    9.6875  0.0  1.0  0.0\n",
       "3         3    1  27.0      0      0    8.6625  0.0  0.0  1.0\n",
       "4         3    0  22.0      1      1   12.2875  0.0  0.0  1.0\n",
       "..      ...  ...   ...    ...    ...       ...  ...  ...  ...\n",
       "413       3    1   NaN      0      0    8.0500  0.0  0.0  1.0\n",
       "414       1    0  39.0      0      0  108.9000  1.0  0.0  0.0\n",
       "415       3    1  38.5      0      0    7.2500  0.0  0.0  1.0\n",
       "416       3    1   NaN      0      0    8.0500  0.0  0.0  1.0\n",
       "417       3    1   NaN      1      1   22.3583  1.0  0.0  0.0\n",
       "\n",
       "[418 rows x 9 columns]"
      ]
     },
     "execution_count": 7,
     "metadata": {},
     "output_type": "execute_result"
    }
   ],
   "source": [
    "enc = OneHotEncoder(handle_unknown='ignore')\n",
    "\n",
    "one_hot_encond_temp = pd.DataFrame(enc.fit_transform(train_data[['Embarked']]).toarray())\n",
    "train_data = train_data.iloc[: , :-1]\n",
    "pd.concat([train_data, one_hot_encond_temp], axis=1, ignore_index=False)\n",
    "\n",
    "one_hot_encond_temp = pd.DataFrame(enc.fit_transform(test_data[['Embarked']]).toarray())\n",
    "test_data = test_data.iloc[: , :-1]\n",
    "pd.concat([test_data, one_hot_encond_temp], axis=1, ignore_index=False)"
   ]
  },
  {
   "cell_type": "code",
   "execution_count": 9,
   "id": "30f72031",
   "metadata": {},
   "outputs": [],
   "source": [
    "# Para remover os \"NaN\"\n",
    "train_data.dropna(inplace=True)\n",
    "test_data.dropna(inplace=True)"
   ]
  },
  {
   "cell_type": "code",
   "execution_count": 10,
   "id": "35622073",
   "metadata": {},
   "outputs": [
    {
     "data": {
      "text/html": [
       "<div>\n",
       "<style scoped>\n",
       "    .dataframe tbody tr th:only-of-type {\n",
       "        vertical-align: middle;\n",
       "    }\n",
       "\n",
       "    .dataframe tbody tr th {\n",
       "        vertical-align: top;\n",
       "    }\n",
       "\n",
       "    .dataframe thead th {\n",
       "        text-align: right;\n",
       "    }\n",
       "</style>\n",
       "<table border=\"1\" class=\"dataframe\">\n",
       "  <thead>\n",
       "    <tr style=\"text-align: right;\">\n",
       "      <th></th>\n",
       "      <th>Pclass</th>\n",
       "      <th>Sex</th>\n",
       "      <th>Age</th>\n",
       "      <th>SibSp</th>\n",
       "      <th>Parch</th>\n",
       "      <th>Fare</th>\n",
       "    </tr>\n",
       "  </thead>\n",
       "  <tbody>\n",
       "    <tr>\n",
       "      <th>0</th>\n",
       "      <td>3</td>\n",
       "      <td>1</td>\n",
       "      <td>22.0</td>\n",
       "      <td>1</td>\n",
       "      <td>0</td>\n",
       "      <td>7.2500</td>\n",
       "    </tr>\n",
       "    <tr>\n",
       "      <th>1</th>\n",
       "      <td>1</td>\n",
       "      <td>0</td>\n",
       "      <td>38.0</td>\n",
       "      <td>1</td>\n",
       "      <td>0</td>\n",
       "      <td>71.2833</td>\n",
       "    </tr>\n",
       "    <tr>\n",
       "      <th>2</th>\n",
       "      <td>3</td>\n",
       "      <td>0</td>\n",
       "      <td>26.0</td>\n",
       "      <td>0</td>\n",
       "      <td>0</td>\n",
       "      <td>7.9250</td>\n",
       "    </tr>\n",
       "    <tr>\n",
       "      <th>3</th>\n",
       "      <td>1</td>\n",
       "      <td>0</td>\n",
       "      <td>35.0</td>\n",
       "      <td>1</td>\n",
       "      <td>0</td>\n",
       "      <td>53.1000</td>\n",
       "    </tr>\n",
       "    <tr>\n",
       "      <th>4</th>\n",
       "      <td>3</td>\n",
       "      <td>1</td>\n",
       "      <td>35.0</td>\n",
       "      <td>0</td>\n",
       "      <td>0</td>\n",
       "      <td>8.0500</td>\n",
       "    </tr>\n",
       "    <tr>\n",
       "      <th>...</th>\n",
       "      <td>...</td>\n",
       "      <td>...</td>\n",
       "      <td>...</td>\n",
       "      <td>...</td>\n",
       "      <td>...</td>\n",
       "      <td>...</td>\n",
       "    </tr>\n",
       "    <tr>\n",
       "      <th>885</th>\n",
       "      <td>3</td>\n",
       "      <td>0</td>\n",
       "      <td>39.0</td>\n",
       "      <td>0</td>\n",
       "      <td>5</td>\n",
       "      <td>29.1250</td>\n",
       "    </tr>\n",
       "    <tr>\n",
       "      <th>886</th>\n",
       "      <td>2</td>\n",
       "      <td>1</td>\n",
       "      <td>27.0</td>\n",
       "      <td>0</td>\n",
       "      <td>0</td>\n",
       "      <td>13.0000</td>\n",
       "    </tr>\n",
       "    <tr>\n",
       "      <th>887</th>\n",
       "      <td>1</td>\n",
       "      <td>0</td>\n",
       "      <td>19.0</td>\n",
       "      <td>0</td>\n",
       "      <td>0</td>\n",
       "      <td>30.0000</td>\n",
       "    </tr>\n",
       "    <tr>\n",
       "      <th>889</th>\n",
       "      <td>1</td>\n",
       "      <td>1</td>\n",
       "      <td>26.0</td>\n",
       "      <td>0</td>\n",
       "      <td>0</td>\n",
       "      <td>30.0000</td>\n",
       "    </tr>\n",
       "    <tr>\n",
       "      <th>890</th>\n",
       "      <td>3</td>\n",
       "      <td>1</td>\n",
       "      <td>32.0</td>\n",
       "      <td>0</td>\n",
       "      <td>0</td>\n",
       "      <td>7.7500</td>\n",
       "    </tr>\n",
       "  </tbody>\n",
       "</table>\n",
       "<p>714 rows × 6 columns</p>\n",
       "</div>"
      ],
      "text/plain": [
       "     Pclass  Sex   Age  SibSp  Parch     Fare\n",
       "0         3    1  22.0      1      0   7.2500\n",
       "1         1    0  38.0      1      0  71.2833\n",
       "2         3    0  26.0      0      0   7.9250\n",
       "3         1    0  35.0      1      0  53.1000\n",
       "4         3    1  35.0      0      0   8.0500\n",
       "..      ...  ...   ...    ...    ...      ...\n",
       "885       3    0  39.0      0      5  29.1250\n",
       "886       2    1  27.0      0      0  13.0000\n",
       "887       1    0  19.0      0      0  30.0000\n",
       "889       1    1  26.0      0      0  30.0000\n",
       "890       3    1  32.0      0      0   7.7500\n",
       "\n",
       "[714 rows x 6 columns]"
      ]
     },
     "execution_count": 10,
     "metadata": {},
     "output_type": "execute_result"
    }
   ],
   "source": [
    "# O 'x' é a informação de todos os passageiros e o 'y', se o passageiro sobreviveu ou não.\n",
    "\n",
    "XTrain = train_data.iloc[: , 1 : ]\n",
    "yTrain = train_data.iloc[: , 0]\n",
    "\n",
    "XTest = test_data\n",
    "\n",
    "XTrain"
   ]
  },
  {
   "cell_type": "markdown",
   "id": "e02144d2",
   "metadata": {},
   "source": [
    "Para a rede neural funcionar bem é importante que todas as colunas sejam caracterizadas em números entre -1 e +1. Para isso, vamos utilizar o 'StandardScaler'. Primeiro, vamos treinar usando a base de teste e depois vamos excutar com as bases de treino e teste."
   ]
  },
  {
   "cell_type": "code",
   "execution_count": 11,
   "id": "c4ce8622",
   "metadata": {},
   "outputs": [
    {
     "data": {
      "text/plain": [
       "array([[ 0.91123237,  0.75905134, -0.53037664,  0.52457013, -0.50589515,\n",
       "        -0.51897787],\n",
       "       [-1.47636364, -1.31743394,  0.57183099,  0.52457013, -0.50589515,\n",
       "         0.69189675],\n",
       "       [ 0.91123237, -1.31743394, -0.25482473, -0.55170307, -0.50589515,\n",
       "        -0.50621356],\n",
       "       ...,\n",
       "       [-1.47636364, -1.31743394, -0.73704057, -0.55170307, -0.50589515,\n",
       "        -0.08877362],\n",
       "       [-1.47636364,  0.75905134, -0.25482473, -0.55170307, -0.50589515,\n",
       "        -0.08877362],\n",
       "       [ 0.91123237,  0.75905134,  0.15850313, -0.55170307, -0.50589515,\n",
       "        -0.50952283]])"
      ]
     },
     "execution_count": 11,
     "metadata": {},
     "output_type": "execute_result"
    }
   ],
   "source": [
    "sc = StandardScaler() \n",
    "sc.fit(XTrain) \n",
    "\n",
    "XTrain = sc.transform(XTrain.values) \n",
    "XTest = sc.transform(XTest.values)  \n",
    "\n",
    "XTrain"
   ]
  },
  {
   "cell_type": "markdown",
   "id": "edfc3351",
   "metadata": {},
   "source": [
    "# Rede Neural\n",
    "\n",
    "O Perceptron que iremos usar abaixo usa um metodo do gradiente estocástico, ou seja, os ajustes dos neurônios aconteceram de modo aleatório. Para que não seja necessário em cada \"epoc\" usar todo o conjunto de treinamento da rede neural para justes os pesos dos neurônios. Exemplo, o perceptron vai sortear alguns passageiros para ajudar os pesos em uma \"epoc\" e no próximo ajuste ele vai sortear outros passageiros. Dessa forma, a rede neural se ajusta muito melhor quando há entrada de novos dados."
   ]
  },
  {
   "cell_type": "code",
   "execution_count": 12,
   "id": "8fc2adcf",
   "metadata": {},
   "outputs": [
    {
     "data": {
      "text/plain": [
       "Perceptron(eta0=0.1)"
      ]
     },
     "execution_count": 12,
     "metadata": {},
     "output_type": "execute_result"
    }
   ],
   "source": [
    "ppn = Perceptron(max_iter=1000, eta0=0.1, random_state=0) \n",
    "#usa SGD (comentar que atualiza os w para cada amostra e \"sorteia\" as amostras, permitindo melhor convergência na busca pelo minimo global; fora que permite online learning)\n",
    "#o batch gd (igual do vídeo passado) é bom para bases pequenas, mas ruim para bases grandes principalmente devido ao estouro de memória, fora que converge mais rápido\n",
    "#minibatch tem características hibridas\n",
    "\n",
    "ppn.fit(XTrain, yTrain)"
   ]
  },
  {
   "cell_type": "markdown",
   "id": "764dc92a",
   "metadata": {},
   "source": [
    "O metodo 'predict' vai buscar os passageiros que sobreviveram "
   ]
  },
  {
   "cell_type": "code",
   "execution_count": 13,
   "id": "58f94de8",
   "metadata": {},
   "outputs": [],
   "source": [
    "yPred = ppn.predict(XTest)"
   ]
  },
  {
   "cell_type": "code",
   "execution_count": 14,
   "id": "8d02ce8d",
   "metadata": {},
   "outputs": [],
   "source": [
    "y_test = pd.read_csv(\"test_y.csv\")\n",
    "y_test.drop(dropped_test['PassengerId'].index, inplace=True)\n",
    "y_test = y_test[\"Survived\"].values"
   ]
  },
  {
   "cell_type": "code",
   "execution_count": 18,
   "id": "da1d7262",
   "metadata": {},
   "outputs": [
    {
     "data": {
      "text/plain": [
       "array([0, 0, 0, 0, 0, 0, 1, 0, 1, 0, 1, 1, 0, 0, 1, 1, 0, 0, 1, 0, 0, 1,\n",
       "       0, 0, 1, 0, 1, 0, 0, 0, 0, 0, 1, 0, 0, 0, 1, 0, 0, 1, 1, 0, 0, 1,\n",
       "       0, 0, 0, 0, 0, 0, 0, 1, 0, 1, 0, 1, 1, 1, 0, 1, 0, 1, 1, 0, 0, 0,\n",
       "       1, 1, 0, 0, 1, 1, 1, 0, 0, 0, 1, 0, 0, 0, 1, 0, 0, 0, 0, 0, 0, 0,\n",
       "       1, 0, 1, 1, 0, 0, 0, 1, 0, 1, 1, 0, 1, 0, 0, 0, 0, 1, 0, 0, 0, 1,\n",
       "       1, 0, 0, 1, 0, 1, 1, 0, 0, 0, 1, 0, 0, 0, 0, 1, 1, 0, 0, 1, 0, 0,\n",
       "       0, 0, 1, 0, 0, 0, 1, 1, 0, 0, 0, 1, 0, 1, 0, 0, 1, 0, 0, 0, 0, 0,\n",
       "       0, 0, 0, 1, 1, 0, 0, 0, 1, 1, 1, 1, 0, 0, 0, 0, 0, 1, 0, 0, 1, 0,\n",
       "       1, 0, 1, 0, 0, 0, 1, 1, 0, 0, 0, 0, 0, 0, 0, 1, 0, 0, 0, 1, 0, 0,\n",
       "       0, 0, 0, 0, 0, 0, 1, 0, 0, 0, 1, 0, 1, 0, 0, 0, 1, 1, 0, 0, 1, 1,\n",
       "       0, 0, 0, 0, 0, 1, 0, 0, 0, 0, 1, 0, 0, 0, 0, 0, 0, 0, 0, 0, 0, 0,\n",
       "       1, 0, 1, 0, 1, 0, 0, 0, 0, 1, 1, 0, 0, 0, 0, 0, 1, 0, 1, 0, 0, 1,\n",
       "       1, 0, 1, 1, 0, 0, 1, 1, 1, 1, 1, 1, 1, 0, 0, 0, 1, 0, 0, 0, 0, 1,\n",
       "       0, 1, 1, 1, 1, 0, 1, 1, 0, 0, 0, 0, 1, 0, 0, 0, 0, 0, 0, 0, 0, 0,\n",
       "       1, 1, 0, 0, 0, 1, 0, 0, 0, 0, 1, 0, 1, 1, 0, 1, 0, 0, 0, 0, 1, 1,\n",
       "       0], dtype=int64)"
      ]
     },
     "execution_count": 18,
     "metadata": {},
     "output_type": "execute_result"
    }
   ],
   "source": [
    "yPred"
   ]
  },
  {
   "cell_type": "code",
   "execution_count": 19,
   "id": "26f06a74",
   "metadata": {},
   "outputs": [
    {
     "data": {
      "text/plain": [
       "array([0, 1, 0, 0, 1, 0, 1, 0, 1, 0, 0, 0, 0, 1, 0, 0, 1, 1, 0, 0, 1, 0,\n",
       "       0, 0, 0, 0, 0, 1, 1, 0, 1, 1, 0, 0, 0, 0, 0, 1, 0, 0, 1, 0, 1, 0,\n",
       "       0, 0, 0, 0, 0, 0, 1, 1, 1, 0, 1, 0, 1, 0, 0, 1, 0, 0, 0, 0, 0, 1,\n",
       "       1, 1, 0, 1, 0, 0, 0, 0, 0, 1, 0, 0, 0, 0, 1, 0, 0, 0, 0, 0, 1, 1,\n",
       "       0, 0, 1, 1, 0, 0, 0, 1, 0, 1, 0, 0, 0, 1, 0, 0, 0, 0, 0, 1, 0, 1,\n",
       "       1, 0, 0, 0, 0, 0, 0, 0, 0, 0, 1, 0, 0, 1, 1, 1, 0, 1, 0, 0, 1, 0,\n",
       "       1, 1, 0, 0, 0, 0, 0, 1, 1, 0, 0, 0, 1, 0, 1, 0, 0, 0, 0, 0, 0, 0,\n",
       "       1, 0, 1, 1, 0, 1, 0, 0, 1, 0, 0, 0, 0, 0, 1, 1, 1, 0, 0, 1, 0, 0,\n",
       "       1, 1, 0, 1, 0, 0, 0, 1, 0, 0, 0, 0, 1, 1, 1, 0, 0, 1, 0, 1, 1, 1,\n",
       "       0, 0, 0, 0, 0, 0, 1, 0, 0, 0, 1, 1, 0, 0, 0, 0, 1, 0, 0, 1, 0, 1,\n",
       "       0, 0, 0, 0, 1, 0, 1, 1, 1, 0, 0, 0, 0, 0, 1, 0, 0, 0, 1, 0, 0, 0,\n",
       "       0, 0, 0, 0, 1, 0, 1, 0, 0, 0, 1, 1, 0, 0, 0, 0, 0, 1, 0, 0, 0, 0,\n",
       "       1, 0, 1, 0, 0, 0, 0, 0, 0, 0, 0, 0, 1, 0, 1, 0, 1, 0, 0, 0, 1, 0,\n",
       "       0, 1, 0, 1, 1, 0, 1, 0, 1, 1, 0, 0, 0, 1, 1, 0, 0, 0, 0, 1, 1, 0,\n",
       "       1, 0, 0, 0, 0, 0, 0, 0, 0, 0, 0, 0, 1, 0, 0, 1, 1, 1, 1, 0, 0, 0,\n",
       "       0], dtype=int64)"
      ]
     },
     "execution_count": 19,
     "metadata": {},
     "output_type": "execute_result"
    }
   ],
   "source": [
    "y_test"
   ]
  },
  {
   "cell_type": "markdown",
   "id": "93f60860",
   "metadata": {},
   "source": [
    "Para avaliar o indice de acerto da rede neural vamos usar o 'confusion_matrix' e depois o 'plot' que traz em forma de representação gráfica."
   ]
  },
  {
   "cell_type": "code",
   "execution_count": 20,
   "id": "308d6fc0",
   "metadata": {},
   "outputs": [
    {
     "data": {
      "text/plain": [
       "array([[151,  72],\n",
       "       [ 68,  40]], dtype=int64)"
      ]
     },
     "execution_count": 20,
     "metadata": {},
     "output_type": "execute_result"
    }
   ],
   "source": [
    "confusion_matrix(y_test, yPred)"
   ]
  },
  {
   "cell_type": "code",
   "execution_count": 21,
   "id": "5d02121f",
   "metadata": {},
   "outputs": [
    {
     "data": {
      "text/plain": [
       "<sklearn.metrics._plot.confusion_matrix.ConfusionMatrixDisplay at 0x17ad9abc460>"
      ]
     },
     "execution_count": 21,
     "metadata": {},
     "output_type": "execute_result"
    },
    {
     "data": {
      "image/png": "[encoded data removed]",
      "text/plain": [
       "<Figure size 432x288 with 2 Axes>"
      ]
     },
     "metadata": {
      "needs_background": "light"
     },
     "output_type": "display_data"
    }
   ],
   "source": [
    "plot_confusion_matrix(ppn, XTest, y_test) "
   ]
  },
  {
   "cell_type": "markdown",
   "id": "d6a83950",
   "metadata": {},
   "source": [
    "Em azul está representado onde a rede errou, onde tem 0 representa o número de sobrevivente que a rede acertou e onde tem roxo é o número de óbtos e a rede acertou. \n"
   ]
  },
  {
   "cell_type": "code",
   "execution_count": 22,
   "id": "325ee47d",
   "metadata": {},
   "outputs": [
    {
     "data": {
      "text/plain": [
       "0.5770392749244713"
      ]
     },
     "execution_count": 22,
     "metadata": {},
     "output_type": "execute_result"
    }
   ],
   "source": [
    "accuracy_score(y_test, yPred)"
   ]
  },
  {
   "cell_type": "code",
   "execution_count": 23,
   "id": "0771cdc7",
   "metadata": {},
   "outputs": [
    {
     "data": {
      "text/plain": [
       "0.5770392749244713"
      ]
     },
     "execution_count": 23,
     "metadata": {},
     "output_type": "execute_result"
    }
   ],
   "source": [
    "ppn.score(XTest, y_test)"
   ]
  },
  {
   "cell_type": "markdown",
   "id": "64c836cb",
   "metadata": {},
   "source": [
    "# Links Extras\n",
    "\n",
    "* https://www.youtube.com/playlist?list=PLeo1K3hjS3uu7CxAacxVndI4bE_o3BDtO\n",
    "* https://www.youtube.com/watch?v=aircAruvnKk\n",
    "* https://www.youtube.com/watch?v=c6NBkkKNZXw&list=PLxt59R_fWVzT9bDxA76AHm3ig0Gg9S3So&index=5\n",
    "* https://machinelearningmastery.com/implement-perceptron-algorithm-scratch-python/\n",
    "* https://scikit-learn.org/0.15/modules/generated/sklearn.linear_model.Perceptron.html\n",
    "* https://chrisalbon.com/machine_learning/basics/perceptron_in_scikit-learn/"
   ]
  },
  {
   "cell_type": "code",
   "execution_count": null,
   "id": "dfc2d902",
   "metadata": {},
   "outputs": [],
   "source": []
  }
 ],
 "metadata": {
  "kernelspec": {
   "display_name": "Python 3 (ipykernel)",
   "language": "python",
   "name": "python3"
  },
  "language_info": {
   "codemirror_mode": {
    "name": "ipython",
    "version": 3
   },
   "file_extension": ".py",
   "mimetype": "text/x-python",
   "name": "python",
   "nbconvert_exporter": "python",
   "pygments_lexer": "ipython3",
   "version": "3.9.7"
  }
 },
 "nbformat": 4,
 "nbformat_minor": 5
}
